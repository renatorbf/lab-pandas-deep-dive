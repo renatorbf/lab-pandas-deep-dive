{
  "nbformat": 4,
  "nbformat_minor": 0,
  "metadata": {
    "kernelspec": {
      "display_name": "Python 3",
      "language": "python",
      "name": "python3"
    },
    "language_info": {
      "codemirror_mode": {
        "name": "ipython",
        "version": 3
      },
      "file_extension": ".py",
      "mimetype": "text/x-python",
      "name": "python",
      "nbconvert_exporter": "python",
      "pygments_lexer": "ipython3",
      "version": "3.6.8"
    },
    "colab": {
      "name": "main.ipynb",
      "provenance": []
    }
  },
  "cells": [
    {
      "cell_type": "markdown",
      "metadata": {
        "id": "k8zPbMGd4jhZ"
      },
      "source": [
        "# Pandas Deep-Dive\n",
        "\n",
        "#### 1. Import Pandas package under the alias pd and Numpy under the alias np."
      ]
    },
    {
      "cell_type": "code",
      "metadata": {
        "id": "OiWVAhay4jhc"
      },
      "source": [
        "# your code here\n",
        "\n",
        "import pandas as pd\n",
        "import numpy as np"
      ],
      "execution_count": 1,
      "outputs": []
    },
    {
      "cell_type": "markdown",
      "metadata": {
        "id": "Hnw148mg4jhd"
      },
      "source": [
        "#### 2. Define a variable called `path` that contains the path to the csv file you downloaded. If you are reading the data from Ironhack's database, define the variables needed to create the connection with the database. "
      ]
    },
    {
      "cell_type": "code",
      "metadata": {
        "id": "UwJpdQBe4jhd"
      },
      "source": [
        "# your code here\n",
        "\n",
        "path = 'https://raw.githubusercontent.com/renatorbf/lab-pandas-deep-dive/master/your-code/apple_store.csv'"
      ],
      "execution_count": 2,
      "outputs": []
    },
    {
      "cell_type": "markdown",
      "metadata": {
        "id": "X2cG_Mho4jhd"
      },
      "source": [
        "#### 3. Using the pandas, read the data either from the downladed file or the database. \n",
        "\n",
        "Assign the returned value to a variable called `data`."
      ]
    },
    {
      "cell_type": "code",
      "metadata": {
        "id": "XubQdoI14jhe"
      },
      "source": [
        "# your code here\n",
        "\n",
        "data = pd.read_csv(path)"
      ],
      "execution_count": 3,
      "outputs": []
    },
    {
      "cell_type": "markdown",
      "metadata": {
        "id": "eAkrA-8z4jhe"
      },
      "source": [
        "#### 4. Print the first 5 rows of `data` to see what the data look like.\n",
        "\n",
        "A data analyst usually does this to have a general understanding about what the data look like before digging deep."
      ]
    },
    {
      "cell_type": "code",
      "metadata": {
        "id": "x6o_rLEB4jhf",
        "outputId": "44cf7b86-fbd8-4ed5-8be0-45dc926bac06",
        "colab": {
          "base_uri": "https://localhost:8080/",
          "height": 206
        }
      },
      "source": [
        "# your code here\n",
        "data.head()"
      ],
      "execution_count": 4,
      "outputs": [
        {
          "output_type": "execute_result",
          "data": {
            "text/html": [
              "<div>\n",
              "<style scoped>\n",
              "    .dataframe tbody tr th:only-of-type {\n",
              "        vertical-align: middle;\n",
              "    }\n",
              "\n",
              "    .dataframe tbody tr th {\n",
              "        vertical-align: top;\n",
              "    }\n",
              "\n",
              "    .dataframe thead th {\n",
              "        text-align: right;\n",
              "    }\n",
              "</style>\n",
              "<table border=\"1\" class=\"dataframe\">\n",
              "  <thead>\n",
              "    <tr style=\"text-align: right;\">\n",
              "      <th></th>\n",
              "      <th>id</th>\n",
              "      <th>track_name</th>\n",
              "      <th>size_bytes</th>\n",
              "      <th>price</th>\n",
              "      <th>rating_count_tot</th>\n",
              "      <th>rating_count_ver</th>\n",
              "      <th>user_rating</th>\n",
              "      <th>user_rating_ver</th>\n",
              "      <th>prime_genre</th>\n",
              "    </tr>\n",
              "  </thead>\n",
              "  <tbody>\n",
              "    <tr>\n",
              "      <th>0</th>\n",
              "      <td>281656475</td>\n",
              "      <td>PAC-MAN Premium</td>\n",
              "      <td>100788224</td>\n",
              "      <td>3.99</td>\n",
              "      <td>21292</td>\n",
              "      <td>26</td>\n",
              "      <td>4.0</td>\n",
              "      <td>4.5</td>\n",
              "      <td>Games</td>\n",
              "    </tr>\n",
              "    <tr>\n",
              "      <th>1</th>\n",
              "      <td>281796108</td>\n",
              "      <td>Evernote - stay organized</td>\n",
              "      <td>158578688</td>\n",
              "      <td>0.00</td>\n",
              "      <td>161065</td>\n",
              "      <td>26</td>\n",
              "      <td>4.0</td>\n",
              "      <td>3.5</td>\n",
              "      <td>Productivity</td>\n",
              "    </tr>\n",
              "    <tr>\n",
              "      <th>2</th>\n",
              "      <td>281940292</td>\n",
              "      <td>WeatherBug - Local Weather, Radar, Maps, Alerts</td>\n",
              "      <td>100524032</td>\n",
              "      <td>0.00</td>\n",
              "      <td>188583</td>\n",
              "      <td>2822</td>\n",
              "      <td>3.5</td>\n",
              "      <td>4.5</td>\n",
              "      <td>Weather</td>\n",
              "    </tr>\n",
              "    <tr>\n",
              "      <th>3</th>\n",
              "      <td>282614216</td>\n",
              "      <td>eBay: Best App to Buy, Sell, Save! Online Shop...</td>\n",
              "      <td>128512000</td>\n",
              "      <td>0.00</td>\n",
              "      <td>262241</td>\n",
              "      <td>649</td>\n",
              "      <td>4.0</td>\n",
              "      <td>4.5</td>\n",
              "      <td>Shopping</td>\n",
              "    </tr>\n",
              "    <tr>\n",
              "      <th>4</th>\n",
              "      <td>282935706</td>\n",
              "      <td>Bible</td>\n",
              "      <td>92774400</td>\n",
              "      <td>0.00</td>\n",
              "      <td>985920</td>\n",
              "      <td>5320</td>\n",
              "      <td>4.5</td>\n",
              "      <td>5.0</td>\n",
              "      <td>Reference</td>\n",
              "    </tr>\n",
              "  </tbody>\n",
              "</table>\n",
              "</div>"
            ],
            "text/plain": [
              "          id  ...   prime_genre\n",
              "0  281656475  ...         Games\n",
              "1  281796108  ...  Productivity\n",
              "2  281940292  ...       Weather\n",
              "3  282614216  ...      Shopping\n",
              "4  282935706  ...     Reference\n",
              "\n",
              "[5 rows x 9 columns]"
            ]
          },
          "metadata": {},
          "execution_count": 4
        }
      ]
    },
    {
      "cell_type": "markdown",
      "metadata": {
        "id": "Nz_9y4B34jhf"
      },
      "source": [
        "#### 5. Print the summary of the data."
      ]
    },
    {
      "cell_type": "code",
      "metadata": {
        "id": "Y9cnXKkc4jhg",
        "outputId": "63eb2fda-9de4-49c1-e9f6-2e7a05dc10bc",
        "colab": {
          "base_uri": "https://localhost:8080/",
          "height": 300
        }
      },
      "source": [
        "# your code here\n",
        "\n",
        "data.describe()"
      ],
      "execution_count": 7,
      "outputs": [
        {
          "output_type": "execute_result",
          "data": {
            "text/html": [
              "<div>\n",
              "<style scoped>\n",
              "    .dataframe tbody tr th:only-of-type {\n",
              "        vertical-align: middle;\n",
              "    }\n",
              "\n",
              "    .dataframe tbody tr th {\n",
              "        vertical-align: top;\n",
              "    }\n",
              "\n",
              "    .dataframe thead th {\n",
              "        text-align: right;\n",
              "    }\n",
              "</style>\n",
              "<table border=\"1\" class=\"dataframe\">\n",
              "  <thead>\n",
              "    <tr style=\"text-align: right;\">\n",
              "      <th></th>\n",
              "      <th>id</th>\n",
              "      <th>size_bytes</th>\n",
              "      <th>price</th>\n",
              "      <th>rating_count_tot</th>\n",
              "      <th>rating_count_ver</th>\n",
              "      <th>user_rating</th>\n",
              "      <th>user_rating_ver</th>\n",
              "    </tr>\n",
              "  </thead>\n",
              "  <tbody>\n",
              "    <tr>\n",
              "      <th>count</th>\n",
              "      <td>7.197000e+03</td>\n",
              "      <td>7.197000e+03</td>\n",
              "      <td>7197.000000</td>\n",
              "      <td>7.197000e+03</td>\n",
              "      <td>7197.000000</td>\n",
              "      <td>7197.000000</td>\n",
              "      <td>7197.000000</td>\n",
              "    </tr>\n",
              "    <tr>\n",
              "      <th>mean</th>\n",
              "      <td>8.631310e+08</td>\n",
              "      <td>1.991345e+08</td>\n",
              "      <td>1.726218</td>\n",
              "      <td>1.289291e+04</td>\n",
              "      <td>460.373906</td>\n",
              "      <td>3.526956</td>\n",
              "      <td>3.253578</td>\n",
              "    </tr>\n",
              "    <tr>\n",
              "      <th>std</th>\n",
              "      <td>2.712368e+08</td>\n",
              "      <td>3.592069e+08</td>\n",
              "      <td>5.833006</td>\n",
              "      <td>7.573941e+04</td>\n",
              "      <td>3920.455183</td>\n",
              "      <td>1.517948</td>\n",
              "      <td>1.809363</td>\n",
              "    </tr>\n",
              "    <tr>\n",
              "      <th>min</th>\n",
              "      <td>2.816565e+08</td>\n",
              "      <td>5.898240e+05</td>\n",
              "      <td>0.000000</td>\n",
              "      <td>0.000000e+00</td>\n",
              "      <td>0.000000</td>\n",
              "      <td>0.000000</td>\n",
              "      <td>0.000000</td>\n",
              "    </tr>\n",
              "    <tr>\n",
              "      <th>25%</th>\n",
              "      <td>6.000937e+08</td>\n",
              "      <td>4.692275e+07</td>\n",
              "      <td>0.000000</td>\n",
              "      <td>2.800000e+01</td>\n",
              "      <td>1.000000</td>\n",
              "      <td>3.500000</td>\n",
              "      <td>2.500000</td>\n",
              "    </tr>\n",
              "    <tr>\n",
              "      <th>50%</th>\n",
              "      <td>9.781482e+08</td>\n",
              "      <td>9.715302e+07</td>\n",
              "      <td>0.000000</td>\n",
              "      <td>3.000000e+02</td>\n",
              "      <td>23.000000</td>\n",
              "      <td>4.000000</td>\n",
              "      <td>4.000000</td>\n",
              "    </tr>\n",
              "    <tr>\n",
              "      <th>75%</th>\n",
              "      <td>1.082310e+09</td>\n",
              "      <td>1.819249e+08</td>\n",
              "      <td>1.990000</td>\n",
              "      <td>2.793000e+03</td>\n",
              "      <td>140.000000</td>\n",
              "      <td>4.500000</td>\n",
              "      <td>4.500000</td>\n",
              "    </tr>\n",
              "    <tr>\n",
              "      <th>max</th>\n",
              "      <td>1.188376e+09</td>\n",
              "      <td>4.025970e+09</td>\n",
              "      <td>299.990000</td>\n",
              "      <td>2.974676e+06</td>\n",
              "      <td>177050.000000</td>\n",
              "      <td>5.000000</td>\n",
              "      <td>5.000000</td>\n",
              "    </tr>\n",
              "  </tbody>\n",
              "</table>\n",
              "</div>"
            ],
            "text/plain": [
              "                 id    size_bytes  ...  user_rating  user_rating_ver\n",
              "count  7.197000e+03  7.197000e+03  ...  7197.000000      7197.000000\n",
              "mean   8.631310e+08  1.991345e+08  ...     3.526956         3.253578\n",
              "std    2.712368e+08  3.592069e+08  ...     1.517948         1.809363\n",
              "min    2.816565e+08  5.898240e+05  ...     0.000000         0.000000\n",
              "25%    6.000937e+08  4.692275e+07  ...     3.500000         2.500000\n",
              "50%    9.781482e+08  9.715302e+07  ...     4.000000         4.000000\n",
              "75%    1.082310e+09  1.819249e+08  ...     4.500000         4.500000\n",
              "max    1.188376e+09  4.025970e+09  ...     5.000000         5.000000\n",
              "\n",
              "[8 rows x 7 columns]"
            ]
          },
          "metadata": {},
          "execution_count": 7
        }
      ]
    },
    {
      "cell_type": "markdown",
      "metadata": {
        "id": "vlsGt7Lb4jhg"
      },
      "source": [
        "#### 6. Print the number of columns in the data."
      ]
    },
    {
      "cell_type": "code",
      "metadata": {
        "id": "bGWa19jf4jhg",
        "outputId": "f9e0856a-84af-47cd-afb9-176b642dd5a4",
        "colab": {
          "base_uri": "https://localhost:8080/"
        }
      },
      "source": [
        "# your code here\n",
        "len(data.columns)"
      ],
      "execution_count": 14,
      "outputs": [
        {
          "output_type": "execute_result",
          "data": {
            "text/plain": [
              "9"
            ]
          },
          "metadata": {},
          "execution_count": 14
        }
      ]
    },
    {
      "cell_type": "markdown",
      "metadata": {
        "id": "XG39q17Q4jhh"
      },
      "source": [
        "#### 7. Print all column names."
      ]
    },
    {
      "cell_type": "code",
      "metadata": {
        "id": "AGmk0XiB4jhh",
        "outputId": "439fd85d-bc45-484f-eca8-e310be9fbf39",
        "colab": {
          "base_uri": "https://localhost:8080/"
        }
      },
      "source": [
        "# your code here\n",
        "data.columns"
      ],
      "execution_count": 15,
      "outputs": [
        {
          "output_type": "execute_result",
          "data": {
            "text/plain": [
              "Index(['id', 'track_name', 'size_bytes', 'price', 'rating_count_tot',\n",
              "       'rating_count_ver', 'user_rating', 'user_rating_ver', 'prime_genre'],\n",
              "      dtype='object')"
            ]
          },
          "metadata": {},
          "execution_count": 15
        }
      ]
    },
    {
      "cell_type": "markdown",
      "metadata": {
        "id": "4cVK-TT74jhh"
      },
      "source": [
        "#### 8.- Now that we have a general understanding of the data, we'll start working on the challenge questions. How many apps are there in the data source? Print the number of observations of the data.\n",
        "\n",
        "**Hint**: Your code should return the number 7197."
      ]
    },
    {
      "cell_type": "code",
      "metadata": {
        "id": "zzvs_Hmx4jhh",
        "outputId": "244e0fa6-67b9-45d1-e6f0-9e269168a9fc",
        "colab": {
          "base_uri": "https://localhost:8080/"
        }
      },
      "source": [
        "# your code here\n",
        "data.count()"
      ],
      "execution_count": 17,
      "outputs": [
        {
          "output_type": "execute_result",
          "data": {
            "text/plain": [
              "id                  7197\n",
              "track_name          7197\n",
              "size_bytes          7197\n",
              "price               7197\n",
              "rating_count_tot    7197\n",
              "rating_count_ver    7197\n",
              "user_rating         7197\n",
              "user_rating_ver     7197\n",
              "prime_genre         7197\n",
              "dtype: int64"
            ]
          },
          "metadata": {},
          "execution_count": 17
        }
      ]
    },
    {
      "cell_type": "markdown",
      "metadata": {
        "id": "Kxkf2Uhc4jhi"
      },
      "source": [
        "#### 9. What is the average rating of all apps? \n",
        "\n",
        "First, read the `user_rating` column into a varialbe named `user_rating`."
      ]
    },
    {
      "cell_type": "code",
      "metadata": {
        "id": "aC0W7UeG4jhi",
        "outputId": "b6dd14a0-5ee7-414c-8b96-ada3add1eb06",
        "colab": {
          "base_uri": "https://localhost:8080/"
        }
      },
      "source": [
        "# your code here\n",
        "data['user_rating']"
      ],
      "execution_count": 20,
      "outputs": [
        {
          "output_type": "execute_result",
          "data": {
            "text/plain": [
              "0       4.0\n",
              "1       4.0\n",
              "2       3.5\n",
              "3       4.0\n",
              "4       4.5\n",
              "       ... \n",
              "7192    4.5\n",
              "7193    4.5\n",
              "7194    4.5\n",
              "7195    4.5\n",
              "7196    5.0\n",
              "Name: user_rating, Length: 7197, dtype: float64"
            ]
          },
          "metadata": {},
          "execution_count": 20
        }
      ]
    },
    {
      "cell_type": "markdown",
      "metadata": {
        "id": "sv9lrL_B4jhi"
      },
      "source": [
        "Now you can calculate the average of the `user_rating` data.\n",
        "\n",
        "**Hint**: Your code should return 3.526955675976101."
      ]
    },
    {
      "cell_type": "code",
      "metadata": {
        "id": "XVIvKbew4jhi",
        "outputId": "97b4fc93-65b5-424a-e9fe-96e9184048c6",
        "colab": {
          "base_uri": "https://localhost:8080/"
        }
      },
      "source": [
        "# your code here\n",
        "data['user_rating'].mean()"
      ],
      "execution_count": 19,
      "outputs": [
        {
          "output_type": "execute_result",
          "data": {
            "text/plain": [
              "3.526955675976101"
            ]
          },
          "metadata": {},
          "execution_count": 19
        }
      ]
    },
    {
      "cell_type": "markdown",
      "metadata": {
        "id": "OtMSVLR64jhi"
      },
      "source": [
        "#### 10. How many apps have an average rating no less than 4?\n",
        "\n",
        "First, filter `user_rating` where its value >= 4. \n",
        "\n",
        "Assign the filtered dataframe to a new variable called `user_rating_high`."
      ]
    },
    {
      "cell_type": "code",
      "metadata": {
        "id": "WB1OLpr_4jhj"
      },
      "source": [
        "# your code here\n",
        "user_rating_high = data[data[('user_rating')] >= 4]"
      ],
      "execution_count": 26,
      "outputs": []
    },
    {
      "cell_type": "markdown",
      "metadata": {
        "id": "47lMTkN44jhj"
      },
      "source": [
        "Now obtain the length of `user_rating_high` which should return 4781."
      ]
    },
    {
      "cell_type": "code",
      "metadata": {
        "id": "nqfUDYPL4jhj",
        "outputId": "c2252b74-9264-4349-baef-f36952115ae6",
        "colab": {
          "base_uri": "https://localhost:8080/"
        }
      },
      "source": [
        "# your code here\n",
        "len(user_rating_high)"
      ],
      "execution_count": 27,
      "outputs": [
        {
          "output_type": "execute_result",
          "data": {
            "text/plain": [
              "4781"
            ]
          },
          "metadata": {},
          "execution_count": 27
        }
      ]
    },
    {
      "cell_type": "markdown",
      "metadata": {
        "id": "6cBrIg5X4jhj"
      },
      "source": [
        "#### 11. How many genres are there in total for all the apps?\n",
        "\n",
        "Define a new variable named `genres` that contains the `prime_genre` column of `data`. Google for how to obtain unique values of a dataframe column. "
      ]
    },
    {
      "cell_type": "code",
      "metadata": {
        "id": "VRnm2CT04jhj"
      },
      "source": [
        "# your code here\n",
        "genres = data['prime_genre']"
      ],
      "execution_count": 30,
      "outputs": []
    },
    {
      "cell_type": "markdown",
      "metadata": {
        "id": "yqaO2i-24jhj"
      },
      "source": [
        "Print the length of the unique values of `genres`. Your code should return 23."
      ]
    },
    {
      "cell_type": "code",
      "metadata": {
        "id": "FCUjWSWp4jhj",
        "outputId": "8795fc65-7675-4c95-d6ee-ddea73dc4c6e",
        "colab": {
          "base_uri": "https://localhost:8080/"
        }
      },
      "source": [
        "# your code here\n",
        "len(genres.unique())"
      ],
      "execution_count": 32,
      "outputs": [
        {
          "output_type": "execute_result",
          "data": {
            "text/plain": [
              "23"
            ]
          },
          "metadata": {},
          "execution_count": 32
        }
      ]
    },
    {
      "cell_type": "markdown",
      "metadata": {
        "id": "1NO3COKV4jhk"
      },
      "source": [
        "#### 12. What are the top 3 genres that have the most number of apps?\n",
        "\n",
        "What you want to do is to count the number of occurrences of each unique genre values. Because you already know how to obtain the unique genre values, you can of course count the # of apps of each genre one by one. However, Pandas has a convient function to let you count all values of a dataframe column with a single command. Google for \"pandas count values\" to find the solution. Your code should return the following:\n",
        "\n",
        "```\n",
        "Games            3862\n",
        "Entertainment     535\n",
        "Education         453\n",
        "Name: prime_genre, dtype: int64\n",
        "```"
      ]
    },
    {
      "cell_type": "code",
      "metadata": {
        "id": "rX8T9Q504jhk",
        "outputId": "83f41542-0afc-46b3-a37c-2a6093577c90",
        "colab": {
          "base_uri": "https://localhost:8080/"
        }
      },
      "source": [
        "# your code here\n",
        "data.value_counts('prime_genre').head(3)"
      ],
      "execution_count": 34,
      "outputs": [
        {
          "output_type": "execute_result",
          "data": {
            "text/plain": [
              "prime_genre\n",
              "Games            3862\n",
              "Entertainment     535\n",
              "Education         453\n",
              "dtype: int64"
            ]
          },
          "metadata": {},
          "execution_count": 34
        }
      ]
    },
    {
      "cell_type": "markdown",
      "metadata": {
        "id": "nM1ScPAg4jhk"
      },
      "source": [
        "#### 13. Which genre is most likely to contain free apps?\n",
        "\n",
        "First, filter `data` where the price is 0.00. Assign the filtered data to a new variable called `free_apps`. Then count the values in `free_apps`. Your code should return:\n",
        "\n",
        "```\n",
        "Games                2257\n",
        "Entertainment         334\n",
        "Photo & Video         167\n",
        "Social Networking     143\n",
        "Education             132\n",
        "Shopping              121\n",
        "Utilities             109\n",
        "Lifestyle              94\n",
        "Finance                84\n",
        "Sports                 79\n",
        "Health & Fitness       76\n",
        "Music                  67\n",
        "Book                   66\n",
        "Productivity           62\n",
        "News                   58\n",
        "Travel                 56\n",
        "Food & Drink           43\n",
        "Weather                31\n",
        "Navigation             20\n",
        "Reference              20\n",
        "Business               20\n",
        "Catalogs                9\n",
        "Medical                 8\n",
        "Name: prime_genre, dtype: int64\n",
        "```"
      ]
    },
    {
      "cell_type": "code",
      "metadata": {
        "id": "mp4bnBhe4jhk"
      },
      "source": [
        "# your code here"
      ],
      "execution_count": null,
      "outputs": []
    },
    {
      "cell_type": "markdown",
      "metadata": {
        "id": "_Nz6ZCWy4jhk"
      },
      "source": [
        "#### 14. Now you can calculate the proportion of the free apps in each genre based on the value counts you obtained in the previous two steps. \n",
        "\n",
        "Challenge yourself by achieving that with one line of code. The output should look like:\n",
        "\n",
        "```\n",
        "Shopping             0.991803\n",
        "Catalogs             0.900000\n",
        "Social Networking    0.856287\n",
        "Finance              0.807692\n",
        "News                 0.773333\n",
        "Sports               0.692982\n",
        "Travel               0.691358\n",
        "Food & Drink         0.682540\n",
        "Lifestyle            0.652778\n",
        "Entertainment        0.624299\n",
        "Book                 0.589286\n",
        "Games                0.584412\n",
        "Music                0.485507\n",
        "Photo & Video        0.478510\n",
        "Utilities            0.439516\n",
        "Navigation           0.434783\n",
        "Weather              0.430556\n",
        "Health & Fitness     0.422222\n",
        "Business             0.350877\n",
        "Productivity         0.348315\n",
        "Medical              0.347826\n",
        "Reference            0.312500\n",
        "Education            0.291391\n",
        "Name: prime_genre, dtype: float64\n",
        "```\n",
        "\n",
        "The numbers are interesting, aren't they?"
      ]
    },
    {
      "cell_type": "code",
      "metadata": {
        "id": "O3n2nNnd4jhl"
      },
      "source": [
        "# your code here"
      ],
      "execution_count": null,
      "outputs": []
    },
    {
      "cell_type": "markdown",
      "metadata": {
        "id": "DOLG8DzF4jhl"
      },
      "source": [
        "#### 15. If a developer tries to make money by developing and selling Apple Store apps, in which genre should s/he develop the apps? Please assume all apps cost the same amount of time and expense to develop.\n",
        "\n",
        "We will leave this question to you. There are several way to solve it. Ideally your output should look like below:\n",
        "\n",
        "```\n",
        "    average_price              genre\n",
        "21       8.776087            Medical\n",
        "11       5.116316           Business\n",
        "4        4.836875          Reference\n",
        "6        4.835435              Music\n",
        "1        4.330562       Productivity\n",
        "15       4.124783         Navigation\n",
        "16       4.028234          Education\n",
        "12       1.916444   Health & Fitness\n",
        "20       1.790536               Book\n",
        "7        1.647621          Utilities\n",
        "2        1.605417            Weather\n",
        "18       1.552381       Food & Drink\n",
        "14       1.473295      Photo & Video\n",
        "0        1.432923              Games\n",
        "8        1.120370             Travel\n",
        "10       0.953070             Sports\n",
        "13       0.889701      Entertainment\n",
        "17       0.885417          Lifestyle\n",
        "22       0.799000           Catalogs\n",
        "19       0.517733               News\n",
        "5        0.421154            Finance\n",
        "9        0.339880  Social Networking\n",
        "3        0.016311           Shopping\n",
        "```"
      ]
    },
    {
      "cell_type": "code",
      "metadata": {
        "id": "wb-vxIBG4jhl"
      },
      "source": [
        "# your code here"
      ],
      "execution_count": null,
      "outputs": []
    },
    {
      "cell_type": "markdown",
      "metadata": {
        "id": "ApZx2V-04jhl"
      },
      "source": [
        "# Challenge - Applying Functions to DataFrames\n",
        "\n",
        "#### Our next step is to use the apply function to a dataframe and transform all cells.\n",
        "\n",
        "To do this, we will load a dataset below and then write a function that will perform the transformation."
      ]
    },
    {
      "cell_type": "code",
      "metadata": {
        "id": "SdV8WDR64jhm"
      },
      "source": [
        "# Run this code:\n",
        "\n",
        "# The dataset below contains information about pollution from PM2.5 particles in Beijing \n",
        "\n",
        "url = \"https://archive.ics.uci.edu/ml/machine-learning-databases/00381/PRSA_data_2010.1.1-2014.12.31.csv\"\n",
        "pm25 = pd.read_csv(url)"
      ],
      "execution_count": null,
      "outputs": []
    },
    {
      "cell_type": "markdown",
      "metadata": {
        "id": "CTmsB2g04jhm"
      },
      "source": [
        "Let's look at the data using the head() function."
      ]
    },
    {
      "cell_type": "code",
      "metadata": {
        "id": "qKHVX31F4jhm"
      },
      "source": [
        "# Your code here:"
      ],
      "execution_count": null,
      "outputs": []
    },
    {
      "cell_type": "markdown",
      "metadata": {
        "id": "motqCuNb4jhm"
      },
      "source": [
        "The next step is to create a function that divides a cell by 24 to produce an hourly figure. Write the function below."
      ]
    },
    {
      "cell_type": "code",
      "metadata": {
        "id": "AIGDhUog4jhm"
      },
      "source": [
        "def hourly(x):\n",
        "    '''\n",
        "    Input: A numerical value\n",
        "    Output: The value divided by 24\n",
        "        \n",
        "    Example:\n",
        "    Input: 48\n",
        "    Output: 2.0\n",
        "    '''\n",
        "    \n",
        "    # Your code here:\n",
        "    "
      ],
      "execution_count": null,
      "outputs": []
    },
    {
      "cell_type": "markdown",
      "metadata": {
        "id": "nlGOZeUx4jhm"
      },
      "source": [
        "Apply this function to the columns Iws, Is, and Ir. Store this new dataframe in the variable pm25_hourly."
      ]
    },
    {
      "cell_type": "code",
      "metadata": {
        "id": "7OamkPsB4jhm"
      },
      "source": [
        "# Your code here:"
      ],
      "execution_count": null,
      "outputs": []
    },
    {
      "cell_type": "markdown",
      "metadata": {
        "id": "wTDOSjTH4jhm"
      },
      "source": [
        "#### Our last challenge will be to create an aggregate function and apply it to a select group of columns in our dataframe.\n",
        "\n",
        "Write a function that returns the standard deviation of a column divided by the length of a column minus 1. Since we are using pandas, do not use the `len()` function. One alternative is to use `count()`. Also, use the numpy version of standard deviation."
      ]
    },
    {
      "cell_type": "code",
      "metadata": {
        "id": "UJm1WWm94jhn"
      },
      "source": [
        "def sample_sd(x):\n",
        "    '''\n",
        "    Input: A Pandas series of values\n",
        "    Output: the standard deviation divided by the number of elements in the series\n",
        "        \n",
        "    Example:\n",
        "    Input: pd.Series([1,2,3,4])\n",
        "    Output: 0.3726779962\n",
        "    '''\n",
        "    \n",
        "    # Your code here:"
      ],
      "execution_count": null,
      "outputs": []
    }
  ]
}